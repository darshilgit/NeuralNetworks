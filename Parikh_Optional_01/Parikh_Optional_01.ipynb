{
 "cells": [
  {
   "cell_type": "markdown",
   "metadata": {},
   "source": [
    "The following code is the solution to the problem 4.4"
   ]
  },
  {
   "cell_type": "markdown",
   "metadata": {},
   "source": [
    "The weight has been initialized to [0,0,0]\n",
    "\n",
    "The weight matrix also includes the bias.\n",
    "\n",
    "Value 1 has been appended to the each dimension of input matrix for the bias.\n",
    "\n",
    "The program follows the perceptron learning rule.\n",
    "\n",
    "The program uses the hardlim activation function.\n",
    "\n",
    "The program runs several epochs and stops when all the values of weight matrix correctly classify the inputs.\n",
    "\n",
    "For the 4.2(iii) part of problem 4.4, I have used the classify input function which takes in the inputs from input matrix 3 and gives out the actual value calculated by the neuron."
   ]
  },
  {
   "cell_type": "code",
   "execution_count": 17,
   "metadata": {},
   "outputs": [
    {
     "name": "stdout",
     "output_type": "stream",
     "text": [
      "4.4 and (4.2 ii)\n",
      "The final weight matrix after training is:[[-2  0 -1]]\n",
      "4.4(4.2 iii)\n",
      "Input 0 is classified as 1\n",
      "Input 1 is classified as 0\n",
      "Input 2 is classified as 0\n",
      "Input 3 is classified as 1\n"
     ]
    }
   ],
   "source": [
    "import numpy as np\n",
    "\n",
    "input_matrix_3 = np.array([[-2,0,1],[1,1,1],[0,1,1],[-1,-2,1]])\n",
    "input_matrix_3 = input_matrix_3.transpose()\n",
    "\n",
    "def check_result(actual_output):\n",
    "    if actual_output >= 0:\n",
    "        return 1\n",
    "    else:\n",
    "        return 0\n",
    "\n",
    "def classify_input(input_matrix):\n",
    "    op = weight.dot(input_matrix)\n",
    "    for i in range(op.shape[1]):\n",
    "        a = check_result(op[0][i])\n",
    "        print(\"Input {} is classified as {}\".format(i ,a))\n",
    "\n",
    "        \n",
    "target_matrix = np.array([[1, 1, 0, 0]])\n",
    "weight = np.array([[0,0,0]])\n",
    "input_matrix = np.array([[-1,1,1],[-1,-1,1],[0,0,1],[1,0,1]])\n",
    "input_matrix = input_matrix.transpose()\n",
    "\n",
    "epoch_flag = True\n",
    "\n",
    "while epoch_flag:\n",
    "    output = weight.dot(input_matrix)\n",
    "    i = 0\n",
    "    while i < output.shape[1]:\n",
    "        actual_output = check_result(output[0][i])\n",
    "        if actual_output != target_matrix[0][i]:\n",
    "            error = target_matrix[0][i] - actual_output\n",
    "            weight = weight + error * (input_matrix[:,[i]]).transpose()\n",
    "            break\n",
    "        i += 1\n",
    "    if i == output.shape[1]:\n",
    "        epoch_flag = False\n",
    "        print(\"4.4 and (4.2 ii)\")\n",
    "        print(\"The final weight matrix after training is:{}\".format(weight))\n",
    "        break\n",
    "\n",
    "print(\"4.4(4.2 iii)\")\n",
    "classify_input(input_matrix_3)"
   ]
  }
 ],
 "metadata": {
  "kernelspec": {
   "display_name": "Python 3",
   "language": "python",
   "name": "python3"
  },
  "language_info": {
   "codemirror_mode": {
    "name": "ipython",
    "version": 3
   },
   "file_extension": ".py",
   "mimetype": "text/x-python",
   "name": "python",
   "nbconvert_exporter": "python",
   "pygments_lexer": "ipython3",
   "version": "3.6.5"
  }
 },
 "nbformat": 4,
 "nbformat_minor": 2
}
